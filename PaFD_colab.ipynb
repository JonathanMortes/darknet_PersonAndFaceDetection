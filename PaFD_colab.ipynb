{
  "nbformat": 4,
  "nbformat_minor": 0,
  "metadata": {
    "colab": {
      "name": "PaFD_colab.ipynb",
      "provenance": [],
      "collapsed_sections": [
        "tssMqegl32b7",
        "psIgDD8Z4qAK",
        "GD8wqHHa5GVZ",
        "BKMGujhkMEAM"
      ],
      "toc_visible": true
    },
    "kernelspec": {
      "name": "python3",
      "display_name": "Python 3"
    },
    "accelerator": "GPU"
  },
  "cells": [
    {
      "cell_type": "markdown",
      "metadata": {
        "id": "tssMqegl32b7"
      },
      "source": [
        "##Cargamos Drive para poder añadir ficheros desde nuestra carpeta y evitar la carga y descarga opcional"
      ]
    },
    {
      "cell_type": "markdown",
      "metadata": {
        "id": "RjersKrGSSH0"
      },
      "source": [
        "(Opcional) Cargar la carpeta de google drive"
      ]
    },
    {
      "cell_type": "code",
      "metadata": {
        "id": "PMnAyVPp3tWj"
      },
      "source": [
        "# Solicitud de montar localmente drive\n",
        "from google.colab import drive\n",
        "drive.mount('/content/gdrive')"
      ],
      "execution_count": null,
      "outputs": []
    },
    {
      "cell_type": "markdown",
      "metadata": {
        "id": "izcwfgX59BlH"
      },
      "source": [
        "(Opcional) Carga manual del vídeo"
      ]
    },
    {
      "cell_type": "code",
      "metadata": {
        "id": "QmL4rOEe9Rq4"
      },
      "source": [
        "# Damos la opción de subir el vídeo o arrastrarlo a la carpeta desde Drive (mucho más rápido)\n",
        "from google.colab import files\n",
        "uploaded = files.upload()\n",
        "# Cambiar nombre del fichero a video.mp4 o en la ejecución de la red cambiar su nombre"
      ],
      "execution_count": null,
      "outputs": []
    },
    {
      "cell_type": "markdown",
      "metadata": {
        "id": "psIgDD8Z4qAK"
      },
      "source": [
        "## Clonamos Darknet del repositorio e instalamos las dependencias necesarias"
      ]
    },
    {
      "cell_type": "code",
      "metadata": {
        "id": "2GOrwhpM4i1W"
      },
      "source": [
        "# Importamos las librerías para python\n",
        "import os\n",
        "import cv2 as cv\n",
        "import dlib\n",
        "import tensorflow as tf\n",
        "import keras as kr\n",
        "import numpy as np\n",
        "\n",
        "os.environ['PATH'] += ':/usr/local/cuda/bin'\n",
        "\n",
        "# Importamos el repositorio con el código\n",
        "!git clone https://github.com/JonathanMortes/darknet_PersonAndFaceDetection\n",
        "\n",
        "# Nos descargamos los pesos de yolov3 (se podrían usar otras versiones de yolo)\n",
        "!wget  https://pjreddie.com/media/files/yolov3.weights\n",
        "!chmod a+x ./darknet_PersonAndFaceDetection/darknet\n",
        "\n",
        "# Instalamos los compiladores gcc y g++\n",
        "!apt install gcc-5 g++-5 -y\n",
        "!ln -s /usr/bin/gcc-5 /usr/local/cuda/bin/gcc \n",
        "!ln -s /usr/bin/g++-5 /usr/local/cuda/bin/g++\n",
        "\n",
        "# Insatalmos las librerías necesarias para procesar el vídeo en c++\n",
        "!apt install ffmpeg libopencv-dev libgtk-3-dev python-numpy python3-numpy libdc1394-22 libdc1394-22-dev libjpeg-dev libtiff5-dev libavcodec-dev libavformat-dev libswscale-dev libxine2-dev libgstreamer1.0-dev libgstreamer-plugins-base1.0-dev libv4l-dev libtbb-dev qtbase5-dev libfaac-dev libmp3lame-dev libopencore-amrnb-dev libopencore-amrwb-dev libtheora-dev libvorbis-dev libxvidcore-dev x264 v4l-utils unzip\n"
      ],
      "execution_count": null,
      "outputs": []
    },
    {
      "cell_type": "markdown",
      "metadata": {
        "id": "GD8wqHHa5GVZ"
      },
      "source": [
        "# Compilamos el código de ObjectDetection con YOLOv3\n",
        "\n",
        "\n"
      ]
    },
    {
      "cell_type": "code",
      "metadata": {
        "id": "Q_0Cegea46O5"
      },
      "source": [
        "%cd darknet_PersonAndFaceDetection/darknet/\n",
        "!sed -i 's/GPU=0/GPU=1/g' Makefile\n",
        "!sed -i 's/OPENCV=0/OPENCV=1/g' Makefile\n",
        "!make"
      ],
      "execution_count": null,
      "outputs": []
    },
    {
      "cell_type": "markdown",
      "metadata": {
        "id": "NXGAI7Rh-ib_"
      },
      "source": [
        "# Ejeccución de las detecciones\n",
        "\n",
        "\n",
        "\n",
        "\n",
        "\n",
        "\n"
      ]
    },
    {
      "cell_type": "markdown",
      "metadata": {
        "id": "WkJM_K_s82au"
      },
      "source": [
        "Ejecución de la inferencia sobre el video. Renombrar o importar como video.mp4 en /content/darknet_PersonAndFaceDetection"
      ]
    },
    {
      "cell_type": "code",
      "metadata": {
        "id": "sQU0rAaI-mC6"
      },
      "source": [
        "# Ejecutamos la detección de personas\n",
        "!./darknet detector demo cfg/coco.data cfg/yolov3.cfg /content/yolov3.weights -dont_show /content/darknet_PersonAndFaceDetection/video.mp4 -i 0 -out_filename /content/darknet_PersonAndFaceDetection/people.avi -thresh 0.7\n",
        "# Ejecutamos la detección de caras\n",
        "%cd /content/darknet_PersonAndFaceDetection/\n",
        "!python faceDetector.py # Fichero de salida: detections.avi"
      ],
      "execution_count": null,
      "outputs": []
    },
    {
      "cell_type": "markdown",
      "metadata": {
        "id": "BKMGujhkMEAM"
      },
      "source": [
        "# Descarga manual del vídeo"
      ]
    },
    {
      "cell_type": "markdown",
      "metadata": {
        "id": "WFJETFKwSiwj"
      },
      "source": [
        "(Opcional) Descarga el archivo de forma directa."
      ]
    },
    {
      "cell_type": "code",
      "metadata": {
        "id": "rV57x5qo_nh9",
        "colab": {
          "base_uri": "https://localhost:8080/",
          "height": 34
        },
        "outputId": "d25d2e72-8c8f-4dd4-e929-7329392ab915"
      },
      "source": [
        "# Damos la opción de descargar el vídeo o arrastrarlo a la carpeta a Drive (mucho más rápido)\n",
        "from google.colab import files\n",
        "files.download('/content/darknet_PersonAndFaceDetection/detections.avi')"
      ],
      "execution_count": null,
      "outputs": [
        {
          "output_type": "display_data",
          "data": {
            "application/javascript": [
              "\n",
              "    async function download(id, filename, size) {\n",
              "      if (!google.colab.kernel.accessAllowed) {\n",
              "        return;\n",
              "      }\n",
              "      const div = document.createElement('div');\n",
              "      const label = document.createElement('label');\n",
              "      label.textContent = `Downloading \"${filename}\": `;\n",
              "      div.appendChild(label);\n",
              "      const progress = document.createElement('progress');\n",
              "      progress.max = size;\n",
              "      div.appendChild(progress);\n",
              "      document.body.appendChild(div);\n",
              "\n",
              "      const buffers = [];\n",
              "      let downloaded = 0;\n",
              "\n",
              "      const channel = await google.colab.kernel.comms.open(id);\n",
              "      // Send a message to notify the kernel that we're ready.\n",
              "      channel.send({})\n",
              "\n",
              "      for await (const message of channel.messages) {\n",
              "        // Send a message to notify the kernel that we're ready.\n",
              "        channel.send({})\n",
              "        if (message.buffers) {\n",
              "          for (const buffer of message.buffers) {\n",
              "            buffers.push(buffer);\n",
              "            downloaded += buffer.byteLength;\n",
              "            progress.value = downloaded;\n",
              "          }\n",
              "        }\n",
              "      }\n",
              "      const blob = new Blob(buffers, {type: 'application/binary'});\n",
              "      const a = document.createElement('a');\n",
              "      a.href = window.URL.createObjectURL(blob);\n",
              "      a.download = filename;\n",
              "      div.appendChild(a);\n",
              "      a.click();\n",
              "      div.remove();\n",
              "    }\n",
              "  "
            ],
            "text/plain": [
              "<IPython.core.display.Javascript object>"
            ]
          },
          "metadata": {
            "tags": []
          }
        },
        {
          "output_type": "display_data",
          "data": {
            "application/javascript": [
              "download(\"download_8350cc2d-9386-4dc3-b547-bc320f34b766\", \"output1.avi\", 100417130)"
            ],
            "text/plain": [
              "<IPython.core.display.Javascript object>"
            ]
          },
          "metadata": {
            "tags": []
          }
        }
      ]
    }
  ]
}